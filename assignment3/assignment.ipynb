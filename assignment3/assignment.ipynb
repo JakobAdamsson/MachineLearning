{
 "cells": [
  {
   "attachments": {},
   "cell_type": "markdown",
   "metadata": {},
   "source": [
    "# Author: Jakob Adamsson\n",
    "Built for a Machine learning project at Blekinge Tekniska Högskola, winter 2022\n",
    "\n",
    "Task: Clean Twitter dataset and apply machinelearning models and evaluate them\n",
    "\n",
    "Dataset: https://www.kaggle.com/datasets/kazanova/sentiment140?resource=download\n",
    "\n",
    "Acronym: JAAD19\n",
    "\n",
    "Program: DVAMI20h"
   ]
  },
  {
   "cell_type": "code",
   "execution_count": 1,
   "metadata": {},
   "outputs": [
    {
     "name": "stderr",
     "output_type": "stream",
     "text": [
      "[nltk_data] Downloading package stopwords to /home/jakob/nltk_data...\n",
      "[nltk_data]   Package stopwords is already up-to-date!\n",
      "[nltk_data] Downloading package punkt to /home/jakob/nltk_data...\n",
      "[nltk_data]   Package punkt is already up-to-date!\n",
      "[nltk_data] Downloading package stopwords to /home/jakob/nltk_data...\n",
      "[nltk_data]   Package stopwords is already up-to-date!\n",
      "[nltk_data] Downloading package punkt to /home/jakob/nltk_data...\n",
      "[nltk_data]   Package punkt is already up-to-date!\n"
     ]
    },
    {
     "data": {
      "text/plain": [
       "True"
      ]
     },
     "execution_count": 1,
     "metadata": {},
     "output_type": "execute_result"
    }
   ],
   "source": [
    "# For model building\n",
    "from sklearn.model_selection import GridSearchCV\n",
    "from sklearn.model_selection import train_test_split\n",
    "from sklearn.ensemble import RandomForestClassifier\n",
    "from sklearn.linear_model import LogisticRegression\n",
    "from sklearn.svm import SVC\n",
    "from sklearn.metrics import accuracy_score\n",
    "from sklearn.ensemble import GradientBoostingClassifier\n",
    "from sklearn.feature_extraction.text import TfidfVectorizer\n",
    "from sklearn.metrics import mean_squared_error as mse\n",
    "from sklearn.metrics import confusion_matrix as cm\n",
    "from sklearn.linear_model import SGDClassifier\n",
    "from sklearn.metrics import f1_score as fs\n",
    "from sklearn.naive_bayes import MultinomialNB\n",
    "from scipy.stats import kruskal\n",
    "import matplotlib.pyplot as plt\n",
    "import numpy as np\n",
    "import datacleaning as dc\n",
    "import pandas as pd\n",
    "import matplotlib.pyplot as plt\n",
    "import pickle\n",
    "from sklearn.model_selection import learning_curve\n",
    "from sklearn.model_selection import cross_val_score\n",
    "from scipy.stats import f_oneway\n",
    "\n",
    "# For data cleaning\n",
    "import nltk as sw  # sw for stopwords\n",
    "from nltk.corpus import stopwords\n",
    "from nltk.stem import PorterStemmer\n",
    "from nltk.tokenize import word_tokenize\n",
    "import re\n",
    "\n",
    "sw.download(\"stopwords\")\n",
    "sw.download(\"punkt\")"
   ]
  },
  {
   "attachments": {},
   "cell_type": "markdown",
   "metadata": {},
   "source": [
    "# Clean the data\n",
    "These are the steps i will use during data cleaning phase:\n",
    "1. Analyze the data, find outliers and remove them also remove useless columns\n",
    "2. See if there is a significant amount of unicode characters such as #, [], \\n \\r digits in words etc, if it is, replace them with \"\"(empty space)\n",
    "3. Remove stop words, stop words does not usually have a weight when using NLP and i will use a lib for that\n",
    "4. Apply a stemming algorithm on the dataset so that words that mean the same thing gets replaced by another more general word. Ex am, are, is $\\Rightarrow$ be"
   ]
  },
  {
   "attachments": {},
   "cell_type": "markdown",
   "metadata": {},
   "source": [
    "#### Read the data into dataframe using Pandas"
   ]
  },
  {
   "cell_type": "code",
   "execution_count": 64,
   "metadata": {},
   "outputs": [
    {
     "data": {
      "text/html": [
       "<div>\n",
       "<style scoped>\n",
       "    .dataframe tbody tr th:only-of-type {\n",
       "        vertical-align: middle;\n",
       "    }\n",
       "\n",
       "    .dataframe tbody tr th {\n",
       "        vertical-align: top;\n",
       "    }\n",
       "\n",
       "    .dataframe thead th {\n",
       "        text-align: right;\n",
       "    }\n",
       "</style>\n",
       "<table border=\"1\" class=\"dataframe\">\n",
       "  <thead>\n",
       "    <tr style=\"text-align: right;\">\n",
       "      <th></th>\n",
       "      <th>text</th>\n",
       "      <th>target</th>\n",
       "    </tr>\n",
       "  </thead>\n",
       "  <tbody>\n",
       "    <tr>\n",
       "      <th>0</th>\n",
       "      <td>@switchfoot http://twitpic.com/2y1zl - Awww, t...</td>\n",
       "      <td>0</td>\n",
       "    </tr>\n",
       "    <tr>\n",
       "      <th>1</th>\n",
       "      <td>is upset that he can't update his Facebook by ...</td>\n",
       "      <td>0</td>\n",
       "    </tr>\n",
       "    <tr>\n",
       "      <th>2</th>\n",
       "      <td>@Kenichan I dived many times for the ball. Man...</td>\n",
       "      <td>0</td>\n",
       "    </tr>\n",
       "    <tr>\n",
       "      <th>3</th>\n",
       "      <td>my whole body feels itchy and like its on fire</td>\n",
       "      <td>0</td>\n",
       "    </tr>\n",
       "    <tr>\n",
       "      <th>4</th>\n",
       "      <td>@nationwideclass no, it's not behaving at all....</td>\n",
       "      <td>0</td>\n",
       "    </tr>\n",
       "    <tr>\n",
       "      <th>...</th>\n",
       "      <td>...</td>\n",
       "      <td>...</td>\n",
       "    </tr>\n",
       "    <tr>\n",
       "      <th>1599995</th>\n",
       "      <td>Just woke up. Having no school is the best fee...</td>\n",
       "      <td>1</td>\n",
       "    </tr>\n",
       "    <tr>\n",
       "      <th>1599996</th>\n",
       "      <td>TheWDB.com - Very cool to hear old Walt interv...</td>\n",
       "      <td>1</td>\n",
       "    </tr>\n",
       "    <tr>\n",
       "      <th>1599997</th>\n",
       "      <td>Are you ready for your MoJo Makeover? Ask me f...</td>\n",
       "      <td>1</td>\n",
       "    </tr>\n",
       "    <tr>\n",
       "      <th>1599998</th>\n",
       "      <td>Happy 38th Birthday to my boo of alll time!!! ...</td>\n",
       "      <td>1</td>\n",
       "    </tr>\n",
       "    <tr>\n",
       "      <th>1599999</th>\n",
       "      <td>happy #charitytuesday @theNSPCC @SparksCharity...</td>\n",
       "      <td>1</td>\n",
       "    </tr>\n",
       "  </tbody>\n",
       "</table>\n",
       "<p>1600000 rows × 2 columns</p>\n",
       "</div>"
      ],
      "text/plain": [
       "                                                      text  target\n",
       "0        @switchfoot http://twitpic.com/2y1zl - Awww, t...       0\n",
       "1        is upset that he can't update his Facebook by ...       0\n",
       "2        @Kenichan I dived many times for the ball. Man...       0\n",
       "3          my whole body feels itchy and like its on fire        0\n",
       "4        @nationwideclass no, it's not behaving at all....       0\n",
       "...                                                    ...     ...\n",
       "1599995  Just woke up. Having no school is the best fee...       1\n",
       "1599996  TheWDB.com - Very cool to hear old Walt interv...       1\n",
       "1599997  Are you ready for your MoJo Makeover? Ask me f...       1\n",
       "1599998  Happy 38th Birthday to my boo of alll time!!! ...       1\n",
       "1599999  happy #charitytuesday @theNSPCC @SparksCharity...       1\n",
       "\n",
       "[1600000 rows x 2 columns]"
      ]
     },
     "execution_count": 64,
     "metadata": {},
     "output_type": "execute_result"
    }
   ],
   "source": [
    "\n",
    "df = pd.read_csv(\"dataset/data.csv\")\n",
    "df = df[[\"text\", \"target\"]]\n",
    "df.loc[df[\"target\"] == 4, \"target\"] = 1\n",
    "df"
   ]
  },
  {
   "cell_type": "code",
   "execution_count": 65,
   "metadata": {},
   "outputs": [],
   "source": [
    "def clean_text(df: pd.DataFrame, column: str) -> pd.DataFrame:\n",
    "    df[column] = df[column].str.replace(r\"@\\w+\", \"\")\n",
    "    df[column] = df[column].str.replace(r\"\\d\", \"\")\n",
    "    df[column] = df[column].str.replace(r\"\\n\", \"\")\n",
    "    df[column] = df[column].str.replace(r\"\\[.*?\\]\", \"\")\n",
    "    df[column] = df[column].str.replace(r\"https?:\\/\\/.*[\\r\\n]*\", \"\", case=False)\n",
    "    df[column] = df[column].str.replace(r\"#\\w+\", \"\", case=False)\n",
    "    df[column] = df[column].apply(lambda x: re.sub(r\"[^\\w\\s]\", \"\", x))\n",
    "    return df\n",
    "\n",
    "\n",
    "def remove_stop_words(df: pd.DataFrame, column: str, language: str = \"english\") -> pd.DataFrame:\n",
    "    \"\"\"Remove stopwords from each tweet, since stopwords does not ususally have a large impact when training the model\"\"\"\n",
    "\n",
    "    stop_words = stopwords.words(language)\n",
    "    df[column] = df[column].apply(lambda x: \" \".join([word for word in x.split() if word not in stop_words]))\n",
    "    return df\n",
    "\n",
    "\n",
    "def stem_tweets(df: pd.DataFrame, column: str) -> str:\n",
    "    stemmer = PorterStemmer()\n",
    "    df[column] = df[column].apply(lambda x: \" \".join([stemmer.stem(word) for word in word_tokenize(x)]))\n",
    "    return df\n",
    "\n",
    "\n",
    "def getDataFrame(path: str) -> pd.DataFrame:\n",
    "    df = pd.read_csv(path)\n",
    "    df = df[[\"text\", \"target\"]]\n",
    "\n",
    "    # Remove tweets that occurs more than once\n",
    "    df.drop_duplicates(subset=[\"text\"])\n",
    "    df = stem_tweets(df, \"text\")\n",
    "    df = clean_text(df, \"text\")\n",
    "    df = remove_stop_words(df, \"text\", \"english\")\n",
    "    return df"
   ]
  },
  {
   "attachments": {},
   "cell_type": "markdown",
   "metadata": {},
   "source": [
    "#### Apply the methods on the dataset"
   ]
  },
  {
   "cell_type": "code",
   "execution_count": 66,
   "metadata": {},
   "outputs": [
    {
     "name": "stderr",
     "output_type": "stream",
     "text": [
      "/tmp/ipykernel_60082/732672620.py:2: FutureWarning: The default value of regex will change from True to False in a future version.\n",
      "  df[column] = df[column].str.replace(r\"@\\w+\", \"\")\n",
      "/tmp/ipykernel_60082/732672620.py:3: FutureWarning: The default value of regex will change from True to False in a future version.\n",
      "  df[column] = df[column].str.replace(r\"\\d\", \"\")\n",
      "/tmp/ipykernel_60082/732672620.py:4: FutureWarning: The default value of regex will change from True to False in a future version.\n",
      "  df[column] = df[column].str.replace(r\"\\n\", \"\")\n",
      "/tmp/ipykernel_60082/732672620.py:5: FutureWarning: The default value of regex will change from True to False in a future version.\n",
      "  df[column] = df[column].str.replace(r\"\\[.*?\\]\", \"\")\n",
      "/tmp/ipykernel_60082/732672620.py:6: FutureWarning: The default value of regex will change from True to False in a future version.\n",
      "  df[column] = df[column].str.replace(r\"https?:\\/\\/.*[\\r\\n]*\", \"\", case=False)\n",
      "/tmp/ipykernel_60082/732672620.py:7: FutureWarning: The default value of regex will change from True to False in a future version.\n",
      "  df[column] = df[column].str.replace(r\"#\\w+\", \"\", case=False)\n"
     ]
    }
   ],
   "source": [
    "# Remove tweets that occurs more than once\n",
    "df.drop_duplicates(subset=[\"text\"], inplace=True)\n",
    "\n",
    "# Apply the methods\n",
    "df = stem_tweets(df, \"text\")\n",
    "df = clean_text(df, \"text\")\n",
    "df = remove_stop_words(df, \"text\", \"english\")"
   ]
  },
  {
   "attachments": {},
   "cell_type": "markdown",
   "metadata": {},
   "source": [
    "Save the new dataframe"
   ]
  },
  {
   "cell_type": "code",
   "execution_count": 67,
   "metadata": {},
   "outputs": [],
   "source": [
    "df.to_csv(\"data_updated.csv\", index=False, header=True)"
   ]
  },
  {
   "attachments": {},
   "cell_type": "markdown",
   "metadata": {},
   "source": [
    "Use the new dataframe"
   ]
  },
  {
   "attachments": {},
   "cell_type": "markdown",
   "metadata": {},
   "source": [
    "#### Check if the data is balanced"
   ]
  },
  {
   "cell_type": "code",
   "execution_count": 68,
   "metadata": {},
   "outputs": [
    {
     "name": "stdout",
     "output_type": "stream",
     "text": [
      "Amount of tweets that are positive: 791281\n",
      "Amount of tweets that are nagative: 790185\n",
      "Positive tweets: 0.5003465139307453%\n",
      "Negative tweets: 0.49965348606925475%\n"
     ]
    }
   ],
   "source": [
    "df_1 = df[df[\"target\"] == 1]\n",
    "df_0 = df[df[\"target\"] == 0]\n",
    "print(f\"Amount of tweets that are positive: {len(df_1)}\\nAmount of tweets that are nagative: {len(df_0)}\")\n",
    "\n",
    "print(f\"Positive tweets: {len(df_1)/(len(df_1) + len(df_0))}%\\nNegative tweets: {len(df_0)/(len(df_1) + len(df_0))}%\")\n",
    "\n",
    "# LÄGG IN ÖVER\n",
    "df.dropna(axis=0, inplace=True)"
   ]
  },
  {
   "attachments": {},
   "cell_type": "markdown",
   "metadata": {},
   "source": [
    "We can see that the data is balanced, there is therefore no need to remove any values or anything like that"
   ]
  },
  {
   "cell_type": "markdown",
   "metadata": {},
   "source": [
    "#### Lets remove words that are not above a certain frequency"
   ]
  },
  {
   "cell_type": "code",
   "execution_count": 69,
   "metadata": {},
   "outputs": [],
   "source": [
    "def remove_low_freq_words(df, column, threshold):\n",
    "    df.dropna(axis=0, inplace=True)\n",
    "    vectorizer = TfidfVectorizer()\n",
    "    vectorizer.fit(df[column])\n",
    "    \n",
    "    # Get the feature names\n",
    "    feature_names = vectorizer.vocabulary_\n",
    "    \n",
    "    #\n",
    "    tfidf = vectorizer.transform(df[column]).toarray()\n",
    "    \n",
    "    filtered_words = [[word for word, value in zip(feature_names, values) if value >= threshold] for values in tfidf]  \n",
    "    \n",
    "    filtered_text = [' '.join(words) for words in filtered_words]\n",
    "\n",
    "    # Replace the text in the specified column with the filtered text\n",
    "    df[column] = filtered_text\n",
    "\n",
    "    return df  "
   ]
  },
  {
   "cell_type": "code",
   "execution_count": 1,
   "metadata": {},
   "outputs": [
    {
     "ename": "NameError",
     "evalue": "name 'pd' is not defined",
     "output_type": "error",
     "traceback": [
      "\u001b[0;31m---------------------------------------------------------------------------\u001b[0m",
      "\u001b[0;31mNameError\u001b[0m                                 Traceback (most recent call last)",
      "Cell \u001b[0;32mIn[1], line 2\u001b[0m\n\u001b[1;32m      1\u001b[0m \u001b[39m# Split the data into chunks for faster processing\u001b[39;00m\n\u001b[0;32m----> 2\u001b[0m df_chuncks \u001b[39m=\u001b[39m pd\u001b[39m.\u001b[39mread_csv(\u001b[39m\"\u001b[39m\u001b[39mdataset/data_updated.csv\u001b[39m\u001b[39m\"\u001b[39m, chunksize\u001b[39m=\u001b[39m\u001b[39m50000\u001b[39m)\n\u001b[1;32m      3\u001b[0m df_list \u001b[39m=\u001b[39m []\n\u001b[1;32m      4\u001b[0m \u001b[39mfor\u001b[39;00m chunck \u001b[39min\u001b[39;00m df_chuncks:\n",
      "\u001b[0;31mNameError\u001b[0m: name 'pd' is not defined"
     ]
    }
   ],
   "source": [
    "# Split the data into chunks for faster processing\n",
    "df_chuncks = pd.read_csv(\"dataset/data_updated.csv\", chunksize=50000)\n",
    "df_list = []\n",
    "for chunck in df_chuncks:\n",
    "    temp = remove_low_freq_words(chunck, \"text\", 0.3)\n",
    "    df_list.append(temp)\n",
    "\n",
    "df = pd.concat(df_list)\n"
   ]
  },
  {
   "attachments": {},
   "cell_type": "markdown",
   "metadata": {},
   "source": [
    "Save the new dataframe due to it took 63 minutes for it to clean up. Load in the recently saved dataframe into df"
   ]
  },
  {
   "cell_type": "code",
   "execution_count": 71,
   "metadata": {},
   "outputs": [],
   "source": [
    "df.to_csv(\"dataset/data_updated2.csv\", index=False, header=True)"
   ]
  },
  {
   "attachments": {},
   "cell_type": "markdown",
   "metadata": {},
   "source": [
    "Load the newly created dataset"
   ]
  },
  {
   "cell_type": "code",
   "execution_count": 2,
   "metadata": {},
   "outputs": [],
   "source": [
    "df = pd.read_csv(\"dataset/data_updated2.csv\")\n",
    "df.dropna(axis=0, inplace=True)"
   ]
  },
  {
   "attachments": {},
   "cell_type": "markdown",
   "metadata": {},
   "source": [
    "# Build the models\n",
    "1. Pick a model\n",
    "2. Build a model and evaluate\n",
    "3. Repeat untill three models are done"
   ]
  },
  {
   "attachments": {},
   "cell_type": "markdown",
   "metadata": {},
   "source": [
    "Split the dataset into train and test sets, splitting at 1/5 of the whole dataset"
   ]
  },
  {
   "cell_type": "code",
   "execution_count": 3,
   "metadata": {},
   "outputs": [],
   "source": [
    "X_train, X_test, Y_train, Y_test = train_test_split(df[\"text\"], df[\"target\"], test_size=0.2, random_state=42)"
   ]
  },
  {
   "attachments": {},
   "cell_type": "markdown",
   "metadata": {},
   "source": [
    "Vectorize and reshape the train and testdata(tokenize)"
   ]
  },
  {
   "cell_type": "code",
   "execution_count": 4,
   "metadata": {},
   "outputs": [
    {
     "name": "stdout",
     "output_type": "stream",
     "text": [
      "1    631865\n",
      "0    631848\n",
      "Name: target, dtype: int64\n"
     ]
    }
   ],
   "source": [
    "    # See the distribution of the data\n",
    "    print(Y_train.value_counts())\n",
    "    \n",
    "    # Vectorize the train and test data\n",
    "    vectorizer = TfidfVectorizer()\n",
    "    X_train = vectorizer.fit_transform(X_train)\n",
    "    X_test = vectorizer.transform(X_test)\n",
    "\n",
    "    # Ensure that all train and test data has the same shape\n",
    "    X_train = np.reshape(X_train, (len(Y_train), X_test.shape[1]))\n",
    "    X_test = np.reshape(X_test, (len(Y_test), X_test.shape[1]))"
   ]
  },
  {
   "attachments": {},
   "cell_type": "markdown",
   "metadata": {},
   "source": [
    "## Building the models"
   ]
  },
  {
   "cell_type": "code",
   "execution_count": 5,
   "metadata": {},
   "outputs": [
    {
     "name": "stdout",
     "output_type": "stream",
     "text": [
      "Training started...(LogisticRegression)\n",
      "Training finished...(LogisticRegression)\n",
      "Prediction finished...(LogisticRegression)\n",
      "Accuracy score calculated...(LogisticRegression)\n",
      "Confusion matrix calculated...(LogisticRegression)\n",
      "F1 score calculated...(LogisticRegression)\n",
      "\n",
      "Training started...(GradientBoostingClassifier)\n",
      "Training finished...(GradientBoostingClassifier)\n",
      "Prediction finished...(GradientBoostingClassifier)\n",
      "Accuracy score calculated...(GradientBoostingClassifier)\n",
      "Confusion matrix calculated...(GradientBoostingClassifier)\n",
      "F1 score calculated...(GradientBoostingClassifier)\n",
      "\n",
      "Training started...(SVM)\n",
      "Training finished...(SVM)\n",
      "Prediction finished...(SVM)\n",
      "Accuracy score calculated...(SVM)\n",
      "Confusion matrix calculated...(SVM)\n",
      "F1 score calculated...(SVM)\n",
      "\n",
      "Training started...(MultinomialNB)\n",
      "Training finished...(MultinomialNB)\n",
      "Prediction finished...(MultinomialNB)\n",
      "Accuracy score calculated...(MultinomialNB)\n",
      "Confusion matrix calculated...(MultinomialNB)\n",
      "F1 score calculated...(MultinomialNB)\n",
      "\n"
     ]
    }
   ],
   "source": [
    "class PredictDisaster:\n",
    "    def __init__(self, algorithm, X_train, Y_train, X_test, Y_test, name):\n",
    "        self.algorithm = algorithm\n",
    "        print(f\"Training started...({name})\")\n",
    "        self.fit_data(X_train, Y_train)\n",
    "        print(f\"Training finished...({name})\")\n",
    "        self.pred = self.predict_data(X_test)\n",
    "        print(f\"Prediction finished...({name})\")\n",
    "        self.acc = self.acc_score(Y_test)\n",
    "        print(f\"Accuracy score calculated...({name})\")\n",
    "        self.cm = self.conf_mat(Y_test)\n",
    "        print(f\"Confusion matrix calculated...({name})\")\n",
    "        self.fs = self.f1_score(X_test)\n",
    "        print(f\"F1 score calculated...({name})\\n\")\n",
    "    \n",
    "    def fit_data(self,X_train, Y_train):\n",
    "        self.algorithm.fit(X_train, Y_train)\n",
    "        \n",
    "    def predict_data(self, X_test):\n",
    "        return self.algorithm.predict(X_test)\n",
    "    \n",
    "    def acc_score(self, Y_test):\n",
    "        return accuracy_score(Y_test, self.pred)\n",
    "    \n",
    "    def conf_mat(self, Y_test):\n",
    "        return cm(Y_test, self.pred)\n",
    "    \n",
    "    def f1_score(self, X_test):\n",
    "        return cross_val_score(self.algorithm, X_test, self.pred, cv=5, scoring=\"f1_macro\")\n",
    "    \n",
    "    def print_methods(self):\n",
    "        print(\"\"\"\n",
    "              1. fit_data(X_train, Y_train)\n",
    "              2. predict_data(X_test)\n",
    "              3. acc_score(Y_test)\n",
    "              4. conf_mat(Y_test)\n",
    "              5. f1_score(Y_test)\n",
    "              \"\"\")\n",
    "    \n",
    "\n",
    "# Create the models\n",
    "lr = LogisticRegression(solver=\"sag\", max_iter=100000)\n",
    "gbc = GradientBoostingClassifier()\n",
    "svm = SGDClassifier(loss=\"hinge\")\n",
    "mnb = MultinomialNB()\n",
    "# Predict the disaster\n",
    "lr_C = PredictDisaster(lr, X_train, Y_train, X_test, Y_test, \"LogisticRegression\")\n",
    "gbc_C = PredictDisaster(gbc, X_train, Y_train, X_test, Y_test, \"GradientBoostingClassifier\")\n",
    "svm_C = PredictDisaster(svm, X_train, Y_train, X_test, Y_test, \"SVM\")\n",
    "mnb_C = PredictDisaster(mnb, X_train, Y_train, X_test, Y_test, \"MultinomialNB\")"
   ]
  },
  {
   "attachments": {},
   "cell_type": "markdown",
   "metadata": {},
   "source": [
    "#### Pickle the models, saved models are located in \"pickled_models\""
   ]
  },
  {
   "cell_type": "code",
   "execution_count": 6,
   "metadata": {},
   "outputs": [],
   "source": [
    "model_list = [lr_C, gbc_C, svm_C, mnb_C]\n",
    "model_list_names = [\"LogisticRegression\", \"GradientBoostingClassifier\", \"SVM\", \"MultinomialNB\"]\n",
    "for i in range(len(model_list)):\n",
    "    with open(f\"pickled_models/{model_list_names[i]}.pickle\", \"wb\") as f:\n",
    "        pickle.dump(model_list[i], f)"
   ]
  },
  {
   "attachments": {},
   "cell_type": "markdown",
   "metadata": {},
   "source": [
    "#### Load the saved models for faster usage"
   ]
  },
  {
   "cell_type": "code",
   "execution_count": 7,
   "metadata": {},
   "outputs": [],
   "source": [
    "model_list_names = [\"LogisticRegression\", \"GradientBoostingClassifier\", \"SVM\", \"MultinomialNB\"]\n",
    "for name in model_list_names:\n",
    "    with open(f\"pickled_models/{name}.pickle\", \"rb\") as f:\n",
    "        model = pickle.load(f)\n",
    "        if name == \"LogisticRegression\":\n",
    "            lr_C = model\n",
    "        elif name == \"GradientBoostingClassifier\":\n",
    "            gbc_C = model\n",
    "        elif name == \"SVM\":\n",
    "            svm_C = model\n",
    "        elif name == \"MultinomialNB\":\n",
    "            mnb_C = model"
   ]
  },
  {
   "attachments": {},
   "cell_type": "markdown",
   "metadata": {},
   "source": [
    "#### Print the accuracy score"
   ]
  },
  {
   "cell_type": "code",
   "execution_count": 8,
   "metadata": {},
   "outputs": [
    {
     "name": "stdout",
     "output_type": "stream",
     "text": [
      "Logistic Regression accuracy score: 0.9352702664206198\n",
      "Gradient Boosting Classifier accuracy score: 0.5365920823982604\n",
      "SVM accuracy score: 0.8443416083993556\n",
      "MultinomialNB accuracy score: 0.9473141117149739\n"
     ]
    }
   ],
   "source": [
    "print(f\"Logistic Regression accuracy score: {lr_C.acc}\\nGradient Boosting Classifier accuracy score: {gbc_C.acc}\\nSVM accuracy score: {svm_C.acc}\\nMultinomialNB accuracy score: {mnb_C.acc}\")"
   ]
  },
  {
   "attachments": {},
   "cell_type": "markdown",
   "metadata": {},
   "source": [
    "#### Plot of Logistic Regression Confusion Matrix"
   ]
  },
  {
   "cell_type": "code",
   "execution_count": 9,
   "metadata": {},
   "outputs": [
    {
     "data": {
      "image/png": "[encoded data removed]",
      "text/plain": [
       "<Figure size 640x480 with 2 Axes>"
      ]
     },
     "metadata": {},
     "output_type": "display_data"
    },
    {
     "name": "stdout",
     "output_type": "stream",
     "text": [
      "[[146753  10776]\n",
      " [  9674 148726]]\n"
     ]
    }
   ],
   "source": [
    "\n",
    "plt.imshow(lr_C.cm, cmap='Blues')\n",
    "plt.colorbar()\n",
    "plt.xlabel(\"Predicted label\")\n",
    "plt.ylabel(\"True label\")\n",
    "plt.title(\"Logistic Regression Confusion Matrix\")\n",
    "plt.show()\n",
    "print(f\"{lr_C.cm}\")\n"
   ]
  },
  {
   "attachments": {},
   "cell_type": "markdown",
   "metadata": {},
   "source": [
    "#### Plot of Logistic Regression Confusion Matrix"
   ]
  },
  {
   "cell_type": "code",
   "execution_count": 10,
   "metadata": {},
   "outputs": [
    {
     "data": {
      "image/png": "[encoded data removed]",
      "text/plain": [
       "<Figure size 640x480 with 2 Axes>"
      ]
     },
     "metadata": {},
     "output_type": "display_data"
    },
    {
     "name": "stdout",
     "output_type": "stream",
     "text": [
      "[[ 11364 146165]\n",
      " [   239 158161]]\n"
     ]
    }
   ],
   "source": [
    "plt.imshow(gbc_C.cm, cmap='Blues')\n",
    "plt.colorbar()\n",
    "plt.xlabel(\"Predicted label\")\n",
    "plt.ylabel(\"True label\")\n",
    "plt.title(\"Gradient Boosting Classifier Confusion Matrix\")\n",
    "plt.show()\n",
    "print(f\"{gbc_C.cm}\")"
   ]
  },
  {
   "attachments": {},
   "cell_type": "markdown",
   "metadata": {},
   "source": [
    "#### Plot of Logistic Regression Confusion Matrix"
   ]
  },
  {
   "cell_type": "code",
   "execution_count": 11,
   "metadata": {},
   "outputs": [
    {
     "data": {
      "image/png": "[encoded data removed]",
      "text/plain": [
       "<Figure size 640x480 with 2 Axes>"
      ]
     },
     "metadata": {},
     "output_type": "display_data"
    },
    {
     "name": "stdout",
     "output_type": "stream",
     "text": [
      "[[113232  44297]\n",
      " [  4880 153520]]\n"
     ]
    }
   ],
   "source": [
    "plt.imshow(svm_C.cm, cmap='Blues')\n",
    "plt.colorbar()\n",
    "plt.xlabel(\"Predicted label\")\n",
    "plt.ylabel(\"True label\")\n",
    "plt.title(\"SVM Confusion Matrix\")\n",
    "plt.show()\n",
    "print(f\"{svm_C.cm}\")"
   ]
  },
  {
   "cell_type": "markdown",
   "metadata": {},
   "source": [
    "#### Plot of Logistic Regression Confusion Matrix"
   ]
  },
  {
   "cell_type": "code",
   "execution_count": 12,
   "metadata": {},
   "outputs": [
    {
     "data": {
      "image/png": "[encoded data removed]",
      "text/plain": [
       "<Figure size 640x480 with 2 Axes>"
      ]
     },
     "metadata": {},
     "output_type": "display_data"
    },
    {
     "name": "stdout",
     "output_type": "stream",
     "text": [
      "[[150126   7403]\n",
      " [  9242 149158]]\n"
     ]
    }
   ],
   "source": [
    "plt.imshow(mnb_C.cm, cmap='Blues')\n",
    "plt.colorbar()\n",
    "plt.xlabel(\"Predicted label\")\n",
    "plt.ylabel(\"True label\")\n",
    "plt.title(\"MultinomialNB Confusion Matrix\")\n",
    "plt.show()\n",
    "print(f\"{mnb_C.cm}\")"
   ]
  },
  {
   "attachments": {},
   "cell_type": "markdown",
   "metadata": {},
   "source": [
    "#### Lets analyze the f1-score"
   ]
  },
  {
   "cell_type": "code",
   "execution_count": 13,
   "metadata": {},
   "outputs": [
    {
     "name": "stdout",
     "output_type": "stream",
     "text": [
      "Logistic Regression f1 score: [0.94027628 0.94252205 0.94118867 0.94237781 0.93966979]\n",
      "Gradient Boosting Classifier f1 score: [0.6442871  0.66024084 0.63348498 0.64265605 0.65027026]\n",
      "SVM f1 score: [0.57089857 0.57212391 0.57192344 0.56981428 0.56801007]\n",
      "MultinomialNB f1 score: [0.94448338 0.94671534 0.94562475 0.94533926 0.94532192]\n"
     ]
    }
   ],
   "source": [
    "#print the f1 scores\n",
    "print(f\"Logistic Regression f1 score: {lr_C.fs}\\nGradient Boosting Classifier f1 score: {gbc_C.fs}\\nSVM f1 score: {svm_C.fs}\\nMultinomialNB f1 score: {mnb_C.fs}\")"
   ]
  },
  {
   "attachments": {},
   "cell_type": "markdown",
   "metadata": {},
   "source": [
    "#### Lets analyse the F1-scores using kruskals test"
   ]
  },
  {
   "cell_type": "code",
   "execution_count": 14,
   "metadata": {},
   "outputs": [
    {
     "name": "stdout",
     "output_type": "stream",
     "text": [
      "There are a statistical significant difference between the f1-scores -> p_value = 0.0004707189529993288\n"
     ]
    }
   ],
   "source": [
    "def k_test(algo1_fs: float, algo2_fs: float, algo3_fs: float, algo4_fs: float) -> None:\n",
    "\n",
    "    # Set up the hypotheses\n",
    "    H0 = \"There is no statistical significant difference between the f1-scores\"\n",
    "    H1 = \"There is a statistical significant difference between the f1-scores\"\n",
    "\n",
    "    # Significance level\n",
    "    alpha = 0.05\n",
    "\n",
    "    t_stat, p_value = kruskal(algo1_fs, algo2_fs, algo3_fs, algo4_fs)\n",
    "\n",
    "    # Check p_value against significance level(alpha)\n",
    "    if p_value < alpha:\n",
    "        print(f\"{H1} -> p_value = {p_value}\")\n",
    "\n",
    "    else:\n",
    "        print(f\"{H0} -> p_value = {p_value}\")\n",
    "    \n",
    "k_test(lr_C.fs, gbc_C.fs, svm_C.fs, mnb_C.fs)"
   ]
  },
  {
   "attachments": {},
   "cell_type": "markdown",
   "metadata": {},
   "source": [
    "#### Lets analyze the F1-scores using anova oneway test    \n"
   ]
  },
  {
   "cell_type": "code",
   "execution_count": 16,
   "metadata": {},
   "outputs": [
    {
     "ename": "NameError",
     "evalue": "name 'H1' is not defined",
     "output_type": "error",
     "traceback": [
      "\u001b[0;31m---------------------------------------------------------------------------\u001b[0m",
      "\u001b[0;31mNameError\u001b[0m                                 Traceback (most recent call last)",
      "Cell \u001b[0;32mIn[16], line 17\u001b[0m\n\u001b[1;32m     14\u001b[0m     \u001b[39melse\u001b[39;00m:\n\u001b[1;32m     15\u001b[0m         \u001b[39mprint\u001b[39m(\u001b[39mf\u001b[39m\u001b[39m\"\u001b[39m\u001b[39m{\u001b[39;00mH0\u001b[39m}\u001b[39;00m\u001b[39m -> p_value = \u001b[39m\u001b[39m{\u001b[39;00mp_value\u001b[39m}\u001b[39;00m\u001b[39m\"\u001b[39m)\n\u001b[0;32m---> 17\u001b[0m f_oneway_test(lr_C\u001b[39m.\u001b[39;49mfs, gbc_C\u001b[39m.\u001b[39;49mfs, svm_C\u001b[39m.\u001b[39;49mfs, mnb_C\u001b[39m.\u001b[39;49mfs)\n",
      "Cell \u001b[0;32mIn[16], line 12\u001b[0m, in \u001b[0;36mf_oneway_test\u001b[0;34m(algo1_fs, algo2_fs, algo3_fs, algo4_fs)\u001b[0m\n\u001b[1;32m     10\u001b[0m \u001b[39m# Check the p-value against the significance level\u001b[39;00m\n\u001b[1;32m     11\u001b[0m \u001b[39mif\u001b[39;00m p_value \u001b[39m<\u001b[39m alpha:\n\u001b[0;32m---> 12\u001b[0m     \u001b[39mprint\u001b[39m(\u001b[39mf\u001b[39m\u001b[39m\"\u001b[39m\u001b[39m{\u001b[39;00mH1\u001b[39m}\u001b[39;00m\u001b[39m -> p_value = \u001b[39m\u001b[39m{\u001b[39;00mp_value\u001b[39m}\u001b[39;00m\u001b[39m\"\u001b[39m)\n\u001b[1;32m     14\u001b[0m \u001b[39melse\u001b[39;00m:\n\u001b[1;32m     15\u001b[0m     \u001b[39mprint\u001b[39m(\u001b[39mf\u001b[39m\u001b[39m\"\u001b[39m\u001b[39m{\u001b[39;00mH0\u001b[39m}\u001b[39;00m\u001b[39m -> p_value = \u001b[39m\u001b[39m{\u001b[39;00mp_value\u001b[39m}\u001b[39;00m\u001b[39m\"\u001b[39m)\n",
      "\u001b[0;31mNameError\u001b[0m: name 'H1' is not defined"
     ]
    }
   ],
   "source": [
    "def f_oneway_test(algo1_fs: float, algo2_fs: float, algo3_fs: float, algo4_fs: float) -> None:\n",
    "    # Load the F1 scores of the four models\n",
    "        H0 = \"There is no statistical significant difference between the f1-scores\"\n",
    "    H1 = \"There is a statistical significant difference between the f1-scores\"\n",
    "    # Use the ANOVA test to determine whether the means of the F1 scores are significantly different\n",
    "    statistic, p_value = f_oneway(algo1_fs, algo2_fs, algo3_fs, algo4_fs)\n",
    "\n",
    "    # Set the significance level\n",
    "    alpha = 0.05\n",
    "\n",
    "    # Check the p-value against the significance level\n",
    "    if p_value < alpha:\n",
    "        print(f\"{H1} -> p_value = {p_value}\")\n",
    "\n",
    "    else:\n",
    "        print(f\"{H0} -> p_value = {p_value}\")\n",
    "        \n",
    "f_oneway_test(lr_C.fs, gbc_C.fs, svm_C.fs, mnb_C.fs)"
   ]
  }
 ],
 "metadata": {
  "kernelspec": {
   "display_name": "venv",
   "language": "python",
   "name": "python3"
  },
  "language_info": {
   "codemirror_mode": {
    "name": "ipython",
    "version": 3
   },
   "file_extension": ".py",
   "mimetype": "text/x-python",
   "name": "python",
   "nbconvert_exporter": "python",
   "pygments_lexer": "ipython3",
   "version": "3.10.6"
  },
  "orig_nbformat": 4,
  "vscode": {
   "interpreter": {
    "hash": "08d616e9b79892d69ee695200fdfba4d484ddb813e93a0a070c6acce97e4573c"
   }
  }
 },
 "nbformat": 4,
 "nbformat_minor": 2
}
