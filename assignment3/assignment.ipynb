{
 "cells": [
  {
   "attachments": {},
   "cell_type": "markdown",
   "metadata": {},
   "source": [
    "# Author: Jakob Adamsson\n",
    "Built for a Machine learning project at Blekinge Tekniska Högskola, winter 2022\n",
    "\n",
    "Task: Clean Twitter dataset and apply machinelearning models and evaluate them\n",
    "\n",
    "Dataset: https://www.kaggle.com/datasets/kazanova/sentiment140?resource=download\n",
    "\n",
    "Acronym: JAAD19\n",
    "\n",
    "Program: DVAMI20h"
   ]
  },
  {
   "cell_type": "code",
   "execution_count": 1,
   "metadata": {},
   "outputs": [
    {
     "name": "stderr",
     "output_type": "stream",
     "text": [
      "[nltk_data] Downloading package stopwords to /home/jakob/nltk_data...\n",
      "[nltk_data]   Package stopwords is already up-to-date!\n",
      "[nltk_data] Downloading package punkt to /home/jakob/nltk_data...\n",
      "[nltk_data]   Package punkt is already up-to-date!\n",
      "[nltk_data] Downloading package stopwords to /home/jakob/nltk_data...\n",
      "[nltk_data]   Package stopwords is already up-to-date!\n",
      "[nltk_data] Downloading package punkt to /home/jakob/nltk_data...\n",
      "[nltk_data]   Package punkt is already up-to-date!\n"
     ]
    },
    {
     "data": {
      "text/plain": [
       "True"
      ]
     },
     "execution_count": 1,
     "metadata": {},
     "output_type": "execute_result"
    }
   ],
   "source": [
    "# For model building\n",
    "from sklearn.model_selection import GridSearchCV, KFold\n",
    "from sklearn.model_selection import train_test_split\n",
    "from sklearn.ensemble import RandomForestClassifier\n",
    "from sklearn.linear_model import LogisticRegression\n",
    "from sklearn.svm import SVC\n",
    "from sklearn.metrics import accuracy_score\n",
    "from sklearn.ensemble import GradientBoostingClassifier\n",
    "from sklearn.feature_extraction.text import TfidfVectorizer\n",
    "from sklearn.metrics import mean_squared_error as mse\n",
    "from sklearn.metrics import confusion_matrix as cm\n",
    "from sklearn.linear_model import SGDClassifier\n",
    "from sklearn.metrics import f1_score as fs\n",
    "from sklearn.naive_bayes import MultinomialNB\n",
    "from scipy.stats import kruskal\n",
    "import matplotlib.pyplot as plt\n",
    "import numpy as np\n",
    "import datacleaning as dc\n",
    "import pandas as pd\n",
    "import matplotlib.pyplot as plt\n",
    "import pickle\n",
    "from sklearn.model_selection import learning_curve\n",
    "from sklearn.model_selection import cross_val_score\n",
    "from scipy.stats import f_oneway\n",
    "\n",
    "# For data cleaning\n",
    "import nltk as sw  # sw for stopwords\n",
    "from nltk.corpus import stopwords\n",
    "from nltk.stem import PorterStemmer\n",
    "from nltk.tokenize import word_tokenize\n",
    "import re\n",
    "\n",
    "sw.download(\"stopwords\")\n",
    "sw.download(\"punkt\")"
   ]
  },
  {
   "attachments": {},
   "cell_type": "markdown",
   "metadata": {},
   "source": [
    "# Clean the data\n",
    "These are the steps i will use during data cleaning phase:\n",
    "1. Analyze the data, find outliers and remove them also remove useless columns\n",
    "2. See if there is a significant amount of unicode characters such as #, [], \\n \\r digits in words etc, if it is, replace them with \"\"(empty space)\n",
    "3. Remove stop words, stop words does not usually have a weight when using NLP and i will use a lib for that\n",
    "4. Apply a stemming algorithm on the dataset so that words that mean the same thing gets replaced by another more general word. Ex am, are, is $\\Rightarrow$ be"
   ]
  },
  {
   "attachments": {},
   "cell_type": "markdown",
   "metadata": {},
   "source": [
    "#### Read the data into dataframe using Pandas\n",
    "Select only the target and text column"
   ]
  },
  {
   "cell_type": "code",
   "execution_count": 2,
   "metadata": {},
   "outputs": [
    {
     "data": {
      "text/html": [
       "<div>\n",
       "<style scoped>\n",
       "    .dataframe tbody tr th:only-of-type {\n",
       "        vertical-align: middle;\n",
       "    }\n",
       "\n",
       "    .dataframe tbody tr th {\n",
       "        vertical-align: top;\n",
       "    }\n",
       "\n",
       "    .dataframe thead th {\n",
       "        text-align: right;\n",
       "    }\n",
       "</style>\n",
       "<table border=\"1\" class=\"dataframe\">\n",
       "  <thead>\n",
       "    <tr style=\"text-align: right;\">\n",
       "      <th></th>\n",
       "      <th>text</th>\n",
       "      <th>target</th>\n",
       "    </tr>\n",
       "  </thead>\n",
       "  <tbody>\n",
       "    <tr>\n",
       "      <th>0</th>\n",
       "      <td>@switchfoot http://twitpic.com/2y1zl - Awww, t...</td>\n",
       "      <td>0</td>\n",
       "    </tr>\n",
       "    <tr>\n",
       "      <th>1</th>\n",
       "      <td>is upset that he can't update his Facebook by ...</td>\n",
       "      <td>0</td>\n",
       "    </tr>\n",
       "    <tr>\n",
       "      <th>2</th>\n",
       "      <td>@Kenichan I dived many times for the ball. Man...</td>\n",
       "      <td>0</td>\n",
       "    </tr>\n",
       "    <tr>\n",
       "      <th>3</th>\n",
       "      <td>my whole body feels itchy and like its on fire</td>\n",
       "      <td>0</td>\n",
       "    </tr>\n",
       "    <tr>\n",
       "      <th>4</th>\n",
       "      <td>@nationwideclass no, it's not behaving at all....</td>\n",
       "      <td>0</td>\n",
       "    </tr>\n",
       "    <tr>\n",
       "      <th>...</th>\n",
       "      <td>...</td>\n",
       "      <td>...</td>\n",
       "    </tr>\n",
       "    <tr>\n",
       "      <th>1599995</th>\n",
       "      <td>Just woke up. Having no school is the best fee...</td>\n",
       "      <td>1</td>\n",
       "    </tr>\n",
       "    <tr>\n",
       "      <th>1599996</th>\n",
       "      <td>TheWDB.com - Very cool to hear old Walt interv...</td>\n",
       "      <td>1</td>\n",
       "    </tr>\n",
       "    <tr>\n",
       "      <th>1599997</th>\n",
       "      <td>Are you ready for your MoJo Makeover? Ask me f...</td>\n",
       "      <td>1</td>\n",
       "    </tr>\n",
       "    <tr>\n",
       "      <th>1599998</th>\n",
       "      <td>Happy 38th Birthday to my boo of alll time!!! ...</td>\n",
       "      <td>1</td>\n",
       "    </tr>\n",
       "    <tr>\n",
       "      <th>1599999</th>\n",
       "      <td>happy #charitytuesday @theNSPCC @SparksCharity...</td>\n",
       "      <td>1</td>\n",
       "    </tr>\n",
       "  </tbody>\n",
       "</table>\n",
       "<p>1600000 rows × 2 columns</p>\n",
       "</div>"
      ],
      "text/plain": [
       "                                                      text  target\n",
       "0        @switchfoot http://twitpic.com/2y1zl - Awww, t...       0\n",
       "1        is upset that he can't update his Facebook by ...       0\n",
       "2        @Kenichan I dived many times for the ball. Man...       0\n",
       "3          my whole body feels itchy and like its on fire        0\n",
       "4        @nationwideclass no, it's not behaving at all....       0\n",
       "...                                                    ...     ...\n",
       "1599995  Just woke up. Having no school is the best fee...       1\n",
       "1599996  TheWDB.com - Very cool to hear old Walt interv...       1\n",
       "1599997  Are you ready for your MoJo Makeover? Ask me f...       1\n",
       "1599998  Happy 38th Birthday to my boo of alll time!!! ...       1\n",
       "1599999  happy #charitytuesday @theNSPCC @SparksCharity...       1\n",
       "\n",
       "[1600000 rows x 2 columns]"
      ]
     },
     "execution_count": 2,
     "metadata": {},
     "output_type": "execute_result"
    }
   ],
   "source": [
    "\n",
    "df = pd.read_csv(\"dataset/data.csv\")\n",
    "df = df[[\"text\", \"target\"]]\n",
    "df.loc[df[\"target\"] == 4, \"target\"] = 1\n",
    "df"
   ]
  },
  {
   "attachments": {},
   "cell_type": "markdown",
   "metadata": {},
   "source": [
    "#### Define the functions that will be applied on the data to clean it"
   ]
  },
  {
   "cell_type": "code",
   "execution_count": 6,
   "metadata": {},
   "outputs": [],
   "source": [
    "def clean_text(df: pd.DataFrame, column: str) -> pd.DataFrame:\n",
    "    df[column] = df[column].str.replace(r\"@\\w+\", \"\")\n",
    "    df[column] = df[column].str.replace(r\"\\d\", \"\")\n",
    "    df[column] = df[column].str.replace(r\"\\n\", \"\")\n",
    "    df[column] = df[column].str.replace(r\"\\[.*?\\]\", \"\")\n",
    "    df[column] = df[column].str.replace(r\"https?:\\/\\/.*[\\r\\n]*\", \"\", case=False)\n",
    "    df[column] = df[column].str.replace(r\"#\\w+\", \"\", case=False)\n",
    "    df[column] = df[column].apply(lambda x: re.sub(r\"[^\\w\\s]\", \"\", x))\n",
    "    return df\n",
    "\n",
    "\n",
    "def remove_stop_words(df: pd.DataFrame, column: str, language: str = \"english\") -> pd.DataFrame:\n",
    "    \"\"\"Remove stopwords from each tweet, since stopwords does not ususally have a large impact when training the model\"\"\"\n",
    "\n",
    "    stop_words = stopwords.words(language)\n",
    "    df[column] = df[column].apply(lambda x: \" \".join([word for word in x.split() if word not in stop_words]))\n",
    "    return df\n",
    "\n",
    "\n",
    "def stem_tweets(df: pd.DataFrame, column: str) -> str:\n",
    "    stemmer = PorterStemmer()\n",
    "    df[column] = df[column].apply(lambda x: \" \".join([stemmer.stem(word) for word in word_tokenize(x)]))\n",
    "    return df\n",
    "\n",
    "\n",
    "def getDataFrame(path: str) -> pd.DataFrame:\n",
    "    df = pd.read_csv(path)\n",
    "    df = df[[\"text\", \"target\"]]\n",
    "\n",
    "    # Remove tweets that occurs more than once\n",
    "    df.drop_duplicates(subset=[\"text\"])\n",
    "    df = stem_tweets(df, \"text\")\n",
    "    df = clean_text(df, \"text\")\n",
    "    df = remove_stop_words(df, \"text\", \"english\")\n",
    "    return df\n",
    "def remove_low_freq_words(df, column, threshold):\n",
    "    df.dropna(axis=0, inplace=True)\n",
    "    vectorizer = TfidfVectorizer()\n",
    "    vectorizer.fit(df[column])\n",
    "    \n",
    "    # Get the feature names\n",
    "    feature_names = vectorizer.vocabulary_\n",
    "    \n",
    "    #\n",
    "    tfidf = vectorizer.transform(df[column]).toarray()\n",
    "    \n",
    "    filtered_words = [[word for word, value in zip(feature_names, values) if value >= threshold] for values in tfidf]  \n",
    "    \n",
    "    filtered_text = [' '.join(words) for words in filtered_words]\n",
    "\n",
    "    # Replace the text in the specified column with the filtered text\n",
    "    df[column] = filtered_text\n",
    "\n",
    "    return df  "
   ]
  },
  {
   "attachments": {},
   "cell_type": "markdown",
   "metadata": {},
   "source": [
    "#### Apply the methods on the dataset"
   ]
  },
  {
   "cell_type": "code",
   "execution_count": 7,
   "metadata": {},
   "outputs": [],
   "source": [
    "# Remove tweets that occurs more than once\n",
    "df.drop_duplicates(subset=[\"text\"], inplace=True)\n",
    "\n",
    "# Apply the methods\n",
    "df = stem_tweets(df, \"text\")\n",
    "df = clean_text(df, \"text\")\n",
    "df = remove_stop_words(df, \"text\", \"english\")\n",
    "\n",
    "df_chuncks = pd.read_csv(\"dataset/data_updated.csv\", chunksize=50000)\n",
    "df_list = []\n",
    "for chunck in df_chuncks:\n",
    "    temp = remove_low_freq_words(chunck, \"text\", 0.3)\n",
    "    df_list.append(temp)\n",
    "\n",
    "df = pd.concat(df_list)"
   ]
  },
  {
   "attachments": {},
   "cell_type": "markdown",
   "metadata": {},
   "source": [
    "#### Save the new dataframe in the dataset folder\n",
    "This is done because i the cleaningprocess takes a while and i dont want to repeat it everytime i run this program"
   ]
  },
  {
   "cell_type": "code",
   "execution_count": 8,
   "metadata": {},
   "outputs": [],
   "source": [
    "df.to_csv(\"data_updated.csv\", index=False, header=True)"
   ]
  },
  {
   "attachments": {},
   "cell_type": "markdown",
   "metadata": {},
   "source": [
    "#### Load the new updated dataset"
   ]
  },
  {
   "cell_type": "code",
   "execution_count": 10,
   "metadata": {},
   "outputs": [
    {
     "name": "stdout",
     "output_type": "stream",
     "text": [
      "New dataset loaded, shape:  (1581093, 2)\n"
     ]
    }
   ],
   "source": [
    "df = pd.read_csv(\"data_updated.csv\")\n",
    "print(\"New dataset loaded, shape: \", df.shape)"
   ]
  },
  {
   "attachments": {},
   "cell_type": "markdown",
   "metadata": {},
   "source": [
    "#### Check if the data is balanced"
   ]
  },
  {
   "cell_type": "code",
   "execution_count": 11,
   "metadata": {},
   "outputs": [
    {
     "name": "stdout",
     "output_type": "stream",
     "text": [
      "Amount of tweets that are positive: 791094\n",
      "Amount of tweets that are nagative: 789999\n",
      "Positive tweets: 0.5003462794408678%\n",
      "Negative tweets: 0.4996537205591322%\n"
     ]
    }
   ],
   "source": [
    "df_1 = df[df[\"target\"] == 1]\n",
    "df_0 = df[df[\"target\"] == 0]\n",
    "print(f\"Amount of tweets that are positive: {len(df_1)}\\nAmount of tweets that are nagative: {len(df_0)}\")\n",
    "\n",
    "print(f\"Positive tweets: {len(df_1)/(len(df_1) + len(df_0))}%\\nNegative tweets: {len(df_0)/(len(df_1) + len(df_0))}%\")\n",
    "\n",
    "# LÄGG IN ÖVER\n",
    "df.dropna(axis=0, inplace=True)\n",
    "\n"
   ]
  },
  {
   "attachments": {},
   "cell_type": "markdown",
   "metadata": {},
   "source": [
    "We can see that the data is balanced, there is therefore no need to remove any values or anything like that"
   ]
  },
  {
   "attachments": {},
   "cell_type": "markdown",
   "metadata": {},
   "source": [
    "# Build the models\n",
    "1. Pick a model\n",
    "2. Build a model and evaluate\n",
    "3. Repeat untill three models are done"
   ]
  },
  {
   "attachments": {},
   "cell_type": "markdown",
   "metadata": {},
   "source": [
    "Split the dataset into train and test sets, splitting at 1/5 of the whole dataset"
   ]
  },
  {
   "cell_type": "code",
   "execution_count": 20,
   "metadata": {},
   "outputs": [],
   "source": [
    "X_train, X_test, Y_train, Y_test = train_test_split(df[\"text\"], df[\"target\"], test_size=0.2, random_state=42)"
   ]
  },
  {
   "attachments": {},
   "cell_type": "markdown",
   "metadata": {},
   "source": [
    "#### Vectorize and reshape the train and testdata(tokenize)\n",
    "When the Train and Test sets are vectorized, the result of that operation will generate a Numpy array that spilts the text into individual words and calculates the frequency in the document.\n",
    "The higher of a value, the more important is it to the tweet."
   ]
  },
  {
   "cell_type": "code",
   "execution_count": 21,
   "metadata": {},
   "outputs": [
    {
     "name": "stdout",
     "output_type": "stream",
     "text": [
      "1    631865\n",
      "0    631848\n",
      "Name: target, dtype: int64\n"
     ]
    }
   ],
   "source": [
    "    # See the distribution of the data\n",
    "    print(Y_train.value_counts())\n",
    "    \n",
    "    # Vectorize the train and test data\n",
    "    vectorizer = TfidfVectorizer()\n",
    "    X_train = vectorizer.fit_transform(X_train)\n",
    "    X_test = vectorizer.transform(X_test)\n",
    "\n",
    "    # Ensure that all train and test data has the same shape\n",
    "    X_train = np.reshape(X_train, (len(Y_train), X_test.shape[1]))\n",
    "    X_test = np.reshape(X_test, (len(Y_test), X_test.shape[1]))"
   ]
  },
  {
   "attachments": {},
   "cell_type": "markdown",
   "metadata": {},
   "source": [
    "## Building the models"
   ]
  },
  {
   "cell_type": "code",
   "execution_count": 22,
   "metadata": {},
   "outputs": [],
   "source": [
    "class PredictDisaster:\n",
    "    def __init__(self, algorithm, X_train, Y_train, X_test, Y_test, name):\n",
    "        self.algorithm = algorithm\n",
    "        print(f\"Training started...({name})\")\n",
    "        self.fit_data(X_train, Y_train)\n",
    "        print(f\"Training finished without grid search...({name})\")\n",
    "        self.pred = self.predict_data(X_test)\n",
    "        print(f\"Prediction finished without grid search...({name})\")\n",
    "        self.acc = self.acc_score(Y_test)\n",
    "        print(f\"Accuracy score calculated...({name})\")\n",
    "        self.cm = self.conf_mat(Y_test)\n",
    "        print(f\"Confusion matrix calculated...({name})\")\n",
    "        self.fs = self.f1_score(X_test, Y_test)\n",
    "        print(f\"F1 score calculated...({name})\\n\")\n",
    "    \n",
    "    def fit_data(self,X_train, Y_train):\n",
    "        self.algorithm.fit(X_train, Y_train)\n",
    "        \n",
    "    def predict_data(self, X_test):\n",
    "        return self.algorithm.predict(X_test)\n",
    "    \n",
    "    def acc_score(self, Y_test):\n",
    "        return accuracy_score(Y_test, self.pred)\n",
    "    \n",
    "    def conf_mat(self, Y_test):\n",
    "        return cm(Y_test, self.pred)\n",
    "    \n",
    "    def f1_score(self, X_test, Y_test):\n",
    "        kf = KFold(n_splits=5)\n",
    "        f1_scores = []\n",
    "        for train_index, test_index in kf.split(X_test):\n",
    "            x_train, x_test = X_test[train_index], X_test[test_index]\n",
    "            y_train, y_test = Y_test.to_numpy()[train_index], Y_test.to_numpy()[test_index]\n",
    "            self.algorithm.fit(x_train, y_train)\n",
    "            pred = self.algorithm.predict(x_test)\n",
    "            f1_scores.append(fs(y_test, pred))\n",
    "        return f1_scores\n",
    "    \n",
    "    def print_methods(self):\n",
    "        print(\"\"\"\n",
    "              1. fit_data(X_train, Y_train)\n",
    "              2. predict_data(X_test)\n",
    "              3. acc_score(Y_test)\n",
    "              4. conf_mat(Y_test)\n",
    "              5. f1_score(Y_test)\n",
    "              \"\"\")\n",
    "    \n",
    "\n"
   ]
  },
  {
   "attachments": {},
   "cell_type": "markdown",
   "metadata": {},
   "source": [
    "#### Initital idea is to have simple hyperparameters to see what result that produces"
   ]
  },
  {
   "cell_type": "code",
   "execution_count": 23,
   "metadata": {},
   "outputs": [
    {
     "name": "stdout",
     "output_type": "stream",
     "text": [
      "Training started...(LogisticRegression)\n",
      "Training finished without grid search...(LogisticRegression)\n",
      "Prediction finished without grid search...(LogisticRegression)\n",
      "Accuracy score calculated...(LogisticRegression)\n",
      "Confusion matrix calculated...(LogisticRegression)\n",
      "F1 score calculated...(LogisticRegression)\n",
      "\n",
      "Training started...(GradientBoostingClassifier)\n",
      "Training finished without grid search...(GradientBoostingClassifier)\n",
      "Prediction finished without grid search...(GradientBoostingClassifier)\n",
      "Accuracy score calculated...(GradientBoostingClassifier)\n",
      "Confusion matrix calculated...(GradientBoostingClassifier)\n",
      "F1 score calculated...(GradientBoostingClassifier)\n",
      "\n",
      "Training started...(SVM)\n",
      "Training finished without grid search...(SVM)\n",
      "Prediction finished without grid search...(SVM)\n",
      "Accuracy score calculated...(SVM)\n",
      "Confusion matrix calculated...(SVM)\n",
      "F1 score calculated...(SVM)\n",
      "\n",
      "Training started...(MultinomialNB)\n",
      "Training finished without grid search...(MultinomialNB)\n",
      "Prediction finished without grid search...(MultinomialNB)\n",
      "Accuracy score calculated...(MultinomialNB)\n",
      "Confusion matrix calculated...(MultinomialNB)\n",
      "F1 score calculated...(MultinomialNB)\n",
      "\n"
     ]
    }
   ],
   "source": [
    "# Create the models\n",
    "lr = LogisticRegression(solver=\"sag\", max_iter=100000)\n",
    "gbc = GradientBoostingClassifier()\n",
    "svm = SGDClassifier(loss=\"hinge\")\n",
    "mnb = MultinomialNB()\n",
    "\n",
    "# Predict the disaster\n",
    "lr_C = PredictDisaster(lr, X_train, Y_train, X_test, Y_test, \"LogisticRegression\")\n",
    "gbc_C = PredictDisaster(gbc, X_train, Y_train, X_test, Y_test, \"GradientBoostingClassifier\")\n",
    "svm_C = PredictDisaster(svm, X_train, Y_train, X_test, Y_test, \"SVM\")\n",
    "mnb_C = PredictDisaster(mnb, X_train, Y_train, X_test, Y_test, \"MultinomialNB\")"
   ]
  },
  {
   "attachments": {},
   "cell_type": "markdown",
   "metadata": {},
   "source": [
    "#### Pickle the models, saved models are located in \"pickled_models\""
   ]
  },
  {
   "cell_type": "code",
   "execution_count": 24,
   "metadata": {},
   "outputs": [],
   "source": [
    "model_list = [lr_C, gbc_C, svm_C, mnb_C]\n",
    "model_list_names = [\"LogisticRegression\", \"GradientBoostingClassifier\", \"SVM\", \"MultinomialNB\"]\n",
    "for i in range(len(model_list)):\n",
    "    with open(f\"pickled_models/{model_list_names[i]}.pickle\", \"wb\") as f:\n",
    "        pickle.dump(model_list[i], f)"
   ]
  },
  {
   "attachments": {},
   "cell_type": "markdown",
   "metadata": {},
   "source": [
    "#### Load the saved models for faster usage. Start here if you dont want to run each cell above"
   ]
  },
  {
   "cell_type": "code",
   "execution_count": 25,
   "metadata": {},
   "outputs": [],
   "source": [
    "model_list_names = [\"LogisticRegression\", \"GradientBoostingClassifier\", \"SVM\", \"MultinomialNB\"]\n",
    "for name in model_list_names:\n",
    "    with open(f\"pickled_models/{name}.pickle\", \"rb\") as f:\n",
    "        model = pickle.load(f)\n",
    "        if name == \"LogisticRegression\":\n",
    "            lr_C = model\n",
    "        elif name == \"GradientBoostingClassifier\":\n",
    "            gbc_C = model\n",
    "        elif name == \"SVM\":\n",
    "            svm_C = model\n",
    "        elif name == \"MultinomialNB\":\n",
    "            mnb_C = model"
   ]
  },
  {
   "attachments": {},
   "cell_type": "markdown",
   "metadata": {},
   "source": [
    "#### Print the accuracy score"
   ]
  },
  {
   "cell_type": "code",
   "execution_count": 26,
   "metadata": {},
   "outputs": [
    {
     "name": "stdout",
     "output_type": "stream",
     "text": [
      "Logistic Regression accuracy score: 0.9352671011524741\n",
      "Gradient Boosting Classifier accuracy score: 0.5365952476664061\n",
      "SVM accuracy score: 0.8426766773547221\n",
      "MultinomialNB accuracy score: 0.9473141117149739\n"
     ]
    }
   ],
   "source": [
    "print(f\"Logistic Regression accuracy score: {lr_C.acc}\\nGradient Boosting Classifier accuracy score: {gbc_C.acc}\\nSVM accuracy score: {svm_C.acc}\\nMultinomialNB accuracy score: {mnb_C.acc}\")"
   ]
  },
  {
   "attachments": {},
   "cell_type": "markdown",
   "metadata": {},
   "source": [
    "#### Plot of Logistic Regression Confusion Matrix"
   ]
  },
  {
   "cell_type": "code",
   "execution_count": 27,
   "metadata": {},
   "outputs": [
    {
     "data": {
      "image/png": "[encoded data removed]",
      "text/plain": [
       "<Figure size 640x480 with 2 Axes>"
      ]
     },
     "metadata": {},
     "output_type": "display_data"
    },
    {
     "name": "stdout",
     "output_type": "stream",
     "text": [
      "[[146752  10777]\n",
      " [  9674 148726]]\n"
     ]
    }
   ],
   "source": [
    "\n",
    "plt.imshow(lr_C.cm, cmap='Blues')\n",
    "plt.colorbar()\n",
    "plt.xlabel(\"Predicted label\")\n",
    "plt.ylabel(\"True label\")\n",
    "plt.title(\"Logistic Regression Confusion Matrix\")\n",
    "plt.show()\n",
    "print(f\"{lr_C.cm}\")\n"
   ]
  },
  {
   "attachments": {},
   "cell_type": "markdown",
   "metadata": {},
   "source": [
    "#### Plot of Logistic Regression Confusion Matrix"
   ]
  },
  {
   "cell_type": "code",
   "execution_count": 28,
   "metadata": {},
   "outputs": [
    {
     "data": {
      "image/png": "[encoded data removed]",
      "text/plain": [
       "<Figure size 640x480 with 2 Axes>"
      ]
     },
     "metadata": {},
     "output_type": "display_data"
    },
    {
     "name": "stdout",
     "output_type": "stream",
     "text": [
      "[[ 11364 146165]\n",
      " [   238 158162]]\n"
     ]
    }
   ],
   "source": [
    "plt.imshow(gbc_C.cm, cmap='Blues')\n",
    "plt.colorbar()\n",
    "plt.xlabel(\"Predicted label\")\n",
    "plt.ylabel(\"True label\")\n",
    "plt.title(\"Gradient Boosting Classifier Confusion Matrix\")\n",
    "plt.show()\n",
    "print(f\"{gbc_C.cm}\")"
   ]
  },
  {
   "attachments": {},
   "cell_type": "markdown",
   "metadata": {},
   "source": [
    "#### Plot of Logistic Regression Confusion Matrix"
   ]
  },
  {
   "cell_type": "code",
   "execution_count": 29,
   "metadata": {},
   "outputs": [
    {
     "data": {
      "image/png": "[encoded data removed]",
      "text/plain": [
       "<Figure size 640x480 with 2 Axes>"
      ]
     },
     "metadata": {},
     "output_type": "display_data"
    },
    {
     "name": "stdout",
     "output_type": "stream",
     "text": [
      "[[112599  44930]\n",
      " [  4773 153627]]\n"
     ]
    }
   ],
   "source": [
    "plt.imshow(svm_C.cm, cmap='Blues')\n",
    "plt.colorbar()\n",
    "plt.xlabel(\"Predicted label\")\n",
    "plt.ylabel(\"True label\")\n",
    "plt.title(\"SVM Confusion Matrix\")\n",
    "plt.show()\n",
    "print(f\"{svm_C.cm}\")"
   ]
  },
  {
   "cell_type": "markdown",
   "metadata": {},
   "source": [
    "#### Plot of Logistic Regression Confusion Matrix"
   ]
  },
  {
   "cell_type": "code",
   "execution_count": 30,
   "metadata": {},
   "outputs": [
    {
     "data": {
      "image/png": "[encoded data removed]",
      "text/plain": [
       "<Figure size 640x480 with 2 Axes>"
      ]
     },
     "metadata": {},
     "output_type": "display_data"
    },
    {
     "name": "stdout",
     "output_type": "stream",
     "text": [
      "[[150126   7403]\n",
      " [  9242 149158]]\n"
     ]
    }
   ],
   "source": [
    "plt.imshow(mnb_C.cm, cmap='Blues')\n",
    "plt.colorbar()\n",
    "plt.xlabel(\"Predicted label\")\n",
    "plt.ylabel(\"True label\")\n",
    "plt.title(\"MultinomialNB Confusion Matrix\")\n",
    "plt.show()\n",
    "print(f\"{mnb_C.cm}\")"
   ]
  },
  {
   "attachments": {},
   "cell_type": "markdown",
   "metadata": {},
   "source": [
    "#### Lets analyze the f1-score"
   ]
  },
  {
   "cell_type": "code",
   "execution_count": 31,
   "metadata": {},
   "outputs": [
    {
     "name": "stdout",
     "output_type": "stream",
     "text": [
      "Logistic Regression F1 score: [0.9089501393620316, 0.9087302826799937, 0.9094721148022179, 0.9106805146488917, 0.905525735121516]\n",
      "Gradient Boosting Classifier F1 score: [0.6856446586657178, 0.6829991451419172, 0.6829700360776859, 0.6855191433434596, 0.6802193277128801]\n",
      "SVM F1 score: [0.8593059409115625, 0.8553522186011533, 0.8572586165947162, 0.8644036826200014, 0.842982033454946]\n",
      "MultinomialNB F1 score: [0.9216209811201516, 0.9217917097621131, 0.921681780708986, 0.9227169238552998, 0.9196310092887177]\n"
     ]
    }
   ],
   "source": [
    "print(f\"Logistic Regression F1 score: {lr_C.fs}\\nGradient Boosting Classifier F1 score: {gbc_C.fs}\\nSVM F1 score: {svm_C.fs}\\nMultinomialNB F1 score: {mnb_C.fs}\")"
   ]
  },
  {
   "attachments": {},
   "cell_type": "markdown",
   "metadata": {},
   "source": [
    "#### Im not quite happy with the F1-scores SVM and Gradient Boosting Classifier got, i will now try to tweek some hyperparameters to see if the result will be improved or not.\n",
    "The goal is to have each algorithm performing with a F1-score above 0.9."
   ]
  },
  {
   "cell_type": "code",
   "execution_count": 33,
   "metadata": {},
   "outputs": [
    {
     "name": "stdout",
     "output_type": "stream",
     "text": [
      "Training started...(SVM)\n",
      "Training finished...(SVM)\n",
      "=====================================\n",
      "Best parameters: {'alpha': 0.0001, 'l1_ratio': 0, 'loss': 'modified_huber', 'penalty': 'elasticnet'}\n",
      "Best F1-score: 0.9116073299027352\n",
      "=====================================\n",
      "Initilizing the best model...\n",
      "Training started...(SVM best model)\n",
      "Training finished...(SVM best model)\n",
      "Predictions finished...(SVM best model)\n",
      "test F1-score: 0.9430684827493924\n",
      "All F1-scores: [0.9038526894676677, 0.9050361055776892, 0.9004490671440256, 0.9026998705541515, 0.9029652070136784]\n",
      "All accuracys: [0.9014971670939765, 0.9034279745513246, 0.8979045991200583, 0.9000728009369164, 0.8996280762839282]\n"
     ]
    }
   ],
   "source": [
    "\n",
    "param_grid_svm = {'loss': ['hinge', 'log_loss', 'modified_huber', 'squared_hinge'],\n",
    "              'penalty': ['l1', 'l2', 'elasticnet'],\n",
    "              'alpha': [0.0001, 0.001, 0.01],\n",
    "              'l1_ratio': [0, 0.25, 0.5, 0.75, 1]}\n",
    "\n",
    "\n",
    "svm = SGDClassifier()\n",
    "kFold = kfold = KFold(n_splits=5, shuffle=True, random_state=42)\n",
    "\n",
    "\n",
    "\n",
    "grid_search_svm = GridSearchCV(svm, param_grid_svm, cv=kFold, scoring=\"f1\", n_jobs=7)\n",
    "print(\"Training started...(SVM)\")\n",
    "grid_search_svm.fit(X_train, Y_train)\n",
    "print(\"Training finished...(SVM)\")\n",
    "print(\"=====================================\")\n",
    "print(\"Best parameters:\", grid_search_svm.best_params_)\n",
    "print(\"Best F1-score:\", grid_search_svm.best_score_)\n",
    "print(\"=====================================\")\n",
    "print(\"Initilizing the best model...\")\n",
    "best_svm = SGDClassifier(**grid_search_svm.best_params_)\n",
    "print(\"Training started...(SVM best model)\")\n",
    "best_svm.fit(X_train, Y_train)\n",
    "print(\"Training finished...(SVM best model)\")\n",
    "f1_scores_svm = []\n",
    "accuracys_svm = []\n",
    "for train_index, test_index in kFold.split(X_test):\n",
    "    X_train_fold, X_test_fold = X_test[train_index], X_test[test_index]\n",
    "    Y_train_fold, Y_test_fold = Y_test.to_numpy()[train_index], Y_test.to_numpy()[test_index]\n",
    "    best_svm.fit(X_train_fold, Y_train_fold)\n",
    "    Y_pred = best_svm.predict(X_test_fold)\n",
    "    accuracys_svm.append(accuracy_score(Y_test_fold, Y_pred))\n",
    "    f1_scores_svm.append(fs(Y_test_fold, Y_pred))\n",
    "test_predictions = best_svm.predict(X_test)\n",
    "print(\"Predictions finished...(SVM best model)\")\n",
    "test_f1 = fs(Y_test, test_predictions)\n",
    "print(\"test F1-score:\", test_f1)\n",
    "print(\"All F1-scores:\", f1_scores_svm)\n",
    "print(\"All accuracys:\", accuracys_svm)"
   ]
  },
  {
   "attachments": {},
   "cell_type": "markdown",
   "metadata": {},
   "source": [
    "#### The F1-score and accuracy improved, now the F1-score is above 0.9 where i want it.\n",
    "\n",
    "Lets save the new model"
   ]
  },
  {
   "cell_type": "code",
   "execution_count": 40,
   "metadata": {},
   "outputs": [
    {
     "name": "stdout",
     "output_type": "stream",
     "text": [
      "Model saved!\n"
     ]
    }
   ],
   "source": [
    "# Update the svm_C object\n",
    "svm_C.algorithm = best_svm\n",
    "svm_C.fs = f1_scores_svm\n",
    "\n",
    "# Save the new model\n",
    "with open(f\"pickled_models/SVM.pickle\", \"wb\") as f:\n",
    "    pickle.dump(svm_C, f)\n",
    "\n",
    "print(\"Model saved!\")"
   ]
  },
  {
   "cell_type": "code",
   "execution_count": 43,
   "metadata": {},
   "outputs": [
    {
     "name": "stdout",
     "output_type": "stream",
     "text": [
      "Training started...(GBD)\n"
     ]
    }
   ],
   "source": [
    "param_grid_gbd = {'loss': ['log_loss', 'exponential'],\n",
    "                  'learning_rate': [0.1, 1],\n",
    "                  'n_estimators': [100, 200]}\n",
    "\n",
    "gbd = GradientBoostingClassifier()\n",
    "kFold = KFold(n_splits=5, shuffle=True, random_state=42)\n",
    "\n",
    "grid_search_gbd = GridSearchCV(gbd, param_grid_gbd, cv=kFold, scoring=\"f1\", n_jobs=7)\n",
    "print(\"Training started...(GBD)\")\n",
    "grid_search_gbd.fit(X_train, Y_train)\n",
    "print(\"Training finished...(GBD)\")\n",
    "print(\"=====================================\")\n",
    "print(\"Best parameters:\", grid_search_gbd.best_params_)\n",
    "print(\"Best F1-score:\", grid_search_gbd.best_score_)\n",
    "print(\"=====================================\")\n",
    "print(\"Initilizing the best model...\")\n",
    "best_gbd = GradientBoostingClassifier(**grid_search_gbd.best_params_)\n",
    "print(\"Training started...(GBD best model)\")\n",
    "best_gbd.fit(X_train, Y_train)\n",
    "print(\"Training finished...(GBD best model)\")\n",
    "f1_scores_gbd = []\n",
    "accuracys_gbd = []\n",
    "for train_index, test_index in kFold.split(X_test):\n",
    "    X_train_fold, X_test_fold = X_test[train_index], X_test[test_index]\n",
    "    Y_train_fold, Y_test_fold = Y_test.to_numpy()[train_index], Y_test.to_numpy()[test_index]\n",
    "    best_gbd.fit(X_train_fold, Y_train_fold)\n",
    "    Y_pred = best_gbd.predict(X_test_fold)\n",
    "    accuracys_gbd.append(accuracy_score(Y_test_fold, Y_pred))\n",
    "    f1_scores_gbd.append(fs(Y_test_fold, Y_pred))\n",
    "test_predictions = best_gbd.predict(X_test)\n",
    "print(\"Predictions finished...(GBD best model)\")\n",
    "test_f1 = fs(Y_test, test_predictions)\n",
    "print(\"test F1-score:\", test_f1)\n",
    "print(\"All F1-scores: \", f1_scores_gbd)\n",
    "print(\"All accuracys: \", accuracys_gbd)"
   ]
  },
  {
   "attachments": {},
   "cell_type": "markdown",
   "metadata": {},
   "source": [
    "#### Lets analyse the F1-scores using kruskals test"
   ]
  },
  {
   "cell_type": "code",
   "execution_count": 41,
   "metadata": {},
   "outputs": [
    {
     "name": "stdout",
     "output_type": "stream",
     "text": [
      "There is a statistical significant difference between the f1-scores -> p_value = 0.0004707189529993288\n"
     ]
    }
   ],
   "source": [
    "def k_test(algo1_fs: float, algo2_fs: float, algo3_fs: float, algo4_fs: float) -> None:\n",
    "\n",
    "    # Set up the hypotheses\n",
    "    H0 = \"There is no statistical significant difference between the f1-scores\"\n",
    "    H1 = \"There is a statistical significant difference between the f1-scores\"\n",
    "\n",
    "    # Significance level\n",
    "    alpha = 0.05\n",
    "\n",
    "    t_stat, p_value = kruskal(algo1_fs, algo2_fs, algo3_fs, algo4_fs)\n",
    "\n",
    "    # Check p_value against significance level(alpha)\n",
    "    if p_value < alpha:\n",
    "        print(f\"{H1} -> p_value = {p_value}\")\n",
    "\n",
    "    else:\n",
    "        print(f\"{H0} -> p_value = {p_value}\")\n",
    "    \n",
    "k_test(lr_C.fs, gbc_C.fs, svm_C.fs, mnb_C.fs)"
   ]
  },
  {
   "attachments": {},
   "cell_type": "markdown",
   "metadata": {},
   "source": [
    "#### Lets analyze the F1-scores using anova oneway test    \n"
   ]
  },
  {
   "cell_type": "code",
   "execution_count": 42,
   "metadata": {},
   "outputs": [
    {
     "name": "stdout",
     "output_type": "stream",
     "text": [
      "There is a statistical significant difference between the f1-scores -> p_value = 7.483806533287154e-29\n"
     ]
    }
   ],
   "source": [
    "def f_oneway_test(algo1_fs: float, algo2_fs: float, algo3_fs: float, algo4_fs: float) -> None:\n",
    "    \n",
    "    # Set up the hypotheses\n",
    "    H0 = \"There is no statistical significant difference between the f1-scores\"\n",
    "    H1 = \"There is a statistical significant difference between the f1-scores\"\n",
    "    \n",
    "    # Use the ANOVA test to determine whether the means of the F1 scores are significantly different\n",
    "    statistic, p_value = f_oneway(algo1_fs, algo2_fs, algo3_fs, algo4_fs)\n",
    "\n",
    "    # Set the significance level\n",
    "    alpha = 0.05\n",
    "\n",
    "    # Check the p-value against the significance level\n",
    "    if p_value < alpha:\n",
    "        print(f\"{H1} -> p_value = {p_value}\")\n",
    "\n",
    "    else:\n",
    "        print(f\"{H0} -> p_value = {p_value}\")\n",
    "        \n",
    "f_oneway_test(lr_C.fs, gbc_C.fs, svm_C.fs, mnb_C.fs)"
   ]
  }
 ],
 "metadata": {
  "kernelspec": {
   "display_name": "venv",
   "language": "python",
   "name": "python3"
  },
  "language_info": {
   "codemirror_mode": {
    "name": "ipython",
    "version": 3
   },
   "file_extension": ".py",
   "mimetype": "text/x-python",
   "name": "python",
   "nbconvert_exporter": "python",
   "pygments_lexer": "ipython3",
   "version": "3.10.6"
  },
  "orig_nbformat": 4,
  "vscode": {
   "interpreter": {
    "hash": "08d616e9b79892d69ee695200fdfba4d484ddb813e93a0a070c6acce97e4573c"
   }
  }
 },
 "nbformat": 4,
 "nbformat_minor": 2
}
